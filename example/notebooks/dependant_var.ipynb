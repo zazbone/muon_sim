{
 "cells": [
  {
   "cell_type": "code",
   "execution_count": null,
   "metadata": {},
   "outputs": [],
   "source": [
    "from muon_sim.sampler import MCMCSampler"
   ]
  },
  {
   "cell_type": "code",
   "execution_count": null,
   "metadata": {},
   "outputs": [],
   "source": [
    "import numpy as np"
   ]
  },
  {
   "cell_type": "code",
   "execution_count": null,
   "metadata": {},
   "outputs": [],
   "source": [
    "import matplotlib.pyplot as plt"
   ]
  },
  {
   "cell_type": "code",
   "execution_count": null,
   "metadata": {},
   "outputs": [],
   "source": [
    "beta = 0.999"
   ]
  },
  {
   "cell_type": "code",
   "execution_count": null,
   "metadata": {},
   "outputs": [],
   "source": [
    "def P(x):\n",
    "    try:\n",
    "        n = len(x) // 2\n",
    "        theta1 = x[:n]\n",
    "        theta2 = x[n:]\n",
    "        P1 = np.arccos((beta + np.cos(theta1)) / (1 + beta * np.cos(theta1)))\n",
    "        P2 = np.arccos((beta - np.cos(theta2)) / (1 - beta * np.cos(theta2)))\n",
    "        prior = np.exp((np.abs(theta2 - theta2) - np.pi) ** 2 / 0.1)\n",
    "        ptot = (P1 + P2) * prior\n",
    "        return np.concatenate((ptot, ptot), axis=None)\n",
    "    except TypeError:\n",
    "        theta = x\n",
    "        P1 = np.arccos((beta + np.cos(theta)) / (1 + beta * np.cos(theta)))\n",
    "        P2 = np.arccos((beta - np.cos(theta)) / (1 - beta * np.cos(theta)))\n",
    "        ptot = P1 + P2\n",
    "        return ptot    "
   ]
  },
  {
   "cell_type": "code",
   "execution_count": null,
   "metadata": {},
   "outputs": [],
   "source": [
    "samp = MCMCSampler(P, (-np.pi, np.pi), 1024)"
   ]
  },
  {
   "cell_type": "code",
   "execution_count": null,
   "metadata": {},
   "outputs": [],
   "source": [
    "x = samp.sample(100).flatten()\n",
    "n = len(x) // 2\n",
    "theta1 = x[:n]\n",
    "theta2 = x[n:]"
   ]
  },
  {
   "cell_type": "code",
   "execution_count": null,
   "metadata": {},
   "outputs": [],
   "source": [
    "plt.hist(theta1, bins=int(np.power(len(theta1), 1/3)))\n",
    "plt.show()"
   ]
  },
  {
   "cell_type": "code",
   "execution_count": null,
   "metadata": {},
   "outputs": [],
   "source": [
    "plt.hist(theta2, bins=int(np.power(len(theta2), 1/3)))\n",
    "plt.show()"
   ]
  },
  {
   "cell_type": "code",
   "execution_count": null,
   "metadata": {},
   "outputs": [],
   "source": [
    "_ = plt.hist2d(theta1, theta2, bins=int(np.power(len(theta2), 1/3)))\n"
   ]
  },
  {
   "cell_type": "code",
   "execution_count": null,
   "metadata": {},
   "outputs": [],
   "source": [
    "np.corrcoef(theta1, theta2)"
   ]
  },
  {
   "cell_type": "code",
   "execution_count": null,
   "metadata": {},
   "outputs": [],
   "source": [
    "_ = plt.hist(theta1 - theta2)"
   ]
  },
  {
   "cell_type": "code",
   "execution_count": null,
   "metadata": {},
   "outputs": [],
   "source": []
  }
 ],
 "metadata": {
  "kernelspec": {
   "display_name": ".env",
   "language": "python",
   "name": "python3"
  },
  "language_info": {
   "codemirror_mode": {
    "name": "ipython",
    "version": 3
   },
   "file_extension": ".py",
   "mimetype": "text/x-python",
   "name": "python",
   "nbconvert_exporter": "python",
   "pygments_lexer": "ipython3",
   "version": "3.10.6"
  },
  "vscode": {
   "interpreter": {
    "hash": "40bbae4af5160b053119971b2b0735c3f78510be3347aa39e0b742eb472f0c8e"
   }
  }
 },
 "nbformat": 4,
 "nbformat_minor": 2
}
