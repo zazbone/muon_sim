{
 "cells": [
  {
   "cell_type": "code",
   "execution_count": null,
   "metadata": {},
   "outputs": [],
   "source": [
    "from muon_sim import mcmc\n",
    "import numpy as np\n",
    "import numpy.linalg as lg\n",
    "import matplotlib.pyplot as plt"
   ]
  },
  {
   "cell_type": "code",
   "execution_count": null,
   "metadata": {},
   "outputs": [],
   "source": [
    "N = 1000"
   ]
  },
  {
   "cell_type": "code",
   "execution_count": null,
   "metadata": {},
   "outputs": [],
   "source": [
    "def func(v1, v2):\n",
    "    r1 = lg.norm(v1, axis=0)\n",
    "    r2 = lg.norm(v2, axis=0)\n",
    "    d = lg.norm(- v2 + v1, axis=0)\n",
    "    return np.exp(-4 * (r1 + r2) + d)"
   ]
  },
  {
   "cell_type": "code",
   "execution_count": null,
   "metadata": {},
   "outputs": [],
   "source": [
    "def dot(v1, v2):\n",
    "    dx = v1[0, :] * v2[0, :]\n",
    "    dy = v1[1, :] * v2[1, :]\n",
    "    dz = v1[2, :] * v2[2, :]\n",
    "    return dx + dy + dz"
   ]
  },
  {
   "cell_type": "code",
   "execution_count": null,
   "metadata": {},
   "outputs": [],
   "source": [
    "def calc_E(v1, v2):\n",
    "    r1 = lg.norm(v1, axis=0)\n",
    "    r2 = lg.norm(v2, axis=0)\n",
    "    d = lg.norm(- v2 + v1, axis=0)\n",
    "    r1r12 = dot(v1, v2 - v1)\n",
    "    r2r12 = dot(v2, v2 - v1)\n",
    "    return -17 / 4 + r1r12 / (r1 * d) - r2r12 / (r2 * d)"
   ]
  },
  {
   "cell_type": "code",
   "execution_count": null,
   "metadata": {},
   "outputs": [],
   "source": [
    "v1 = np.random.uniform(-1, 1, (3, N))\n",
    "v2 = np.random.uniform(-1, 1, (3, N))\n",
    "E = []\n",
    "e = []\n",
    "dx = 0.1\n",
    "for i in range(5000):\n",
    "    eps1 = np.random.uniform(-1 * dx, 1 * dx, (3, N))\n",
    "    eps2 = np.random.uniform(-1 * dx, 1 * dx, (3, N))\n",
    "    r = func(v1 + eps1, v2 + eps2) / func(v1, v2)\n",
    "    alpha = np.random.uniform(0, 1, N)\n",
    "    mask = alpha <= r\n",
    "    # mask = ~mask\n",
    "    v1[:, mask] = v1[:, mask] + eps1[:, mask] \n",
    "    v2[:, mask] = v2[:, mask] + eps2[:, mask]\n",
    "    ei = calc_E(v1, v2)\n",
    "    E.append(ei)\n",
    "    e.append(ei[0])\n",
    "E = np.hstack(E)\n",
    "plt.hist(E)\n",
    "plt.show()"
   ]
  },
  {
   "cell_type": "code",
   "execution_count": null,
   "metadata": {},
   "outputs": [],
   "source": [
    "np.mean(E)"
   ]
  },
  {
   "cell_type": "code",
   "execution_count": null,
   "metadata": {},
   "outputs": [],
   "source": [
    "len(E)"
   ]
  },
  {
   "cell_type": "code",
   "execution_count": null,
   "metadata": {},
   "outputs": [],
   "source": [
    "plt.plot(e)\n",
    "plt.show()"
   ]
  }
 ],
 "metadata": {
  "kernelspec": {
   "display_name": ".env",
   "language": "python",
   "name": "python3"
  },
  "language_info": {
   "codemirror_mode": {
    "name": "ipython",
    "version": 3
   },
   "file_extension": ".py",
   "mimetype": "text/x-python",
   "name": "python",
   "nbconvert_exporter": "python",
   "pygments_lexer": "ipython3",
   "version": "3.10.6"
  },
  "vscode": {
   "interpreter": {
    "hash": "40bbae4af5160b053119971b2b0735c3f78510be3347aa39e0b742eb472f0c8e"
   }
  }
 },
 "nbformat": 4,
 "nbformat_minor": 2
}
