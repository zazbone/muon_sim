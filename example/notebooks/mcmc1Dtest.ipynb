{
 "cells": [
  {
   "cell_type": "code",
   "execution_count": null,
   "metadata": {},
   "outputs": [],
   "source": [
    "import muon_sim\n",
    "from muon_sim import mcmc\n",
    "import numpy as np\n",
    "import matplotlib.pyplot as plt"
   ]
  },
  {
   "cell_type": "code",
   "execution_count": null,
   "metadata": {},
   "outputs": [],
   "source": [
    "def gauss(x):\n",
    "\t\"\"\"Just an unormalized gaussian density function\"\"\"\n",
    "\treturn np.exp(-np.power(x, 2) / 0.5)\n",
    "\n",
    "def camel(x):\n",
    "\treturn np.power(10 * x, 3) / np.exp(10 * x)\n",
    "\n",
    "def sigmoid(x):\n",
    "\treturn 1 / (1 + np.exp(-5 * (x - 1)))"
   ]
  },
  {
   "cell_type": "code",
   "execution_count": null,
   "metadata": {},
   "outputs": [],
   "source": [
    "x = np.random.uniform(-2, 2, 1024)\n",
    "npdf = mcmc.pdf_normed(gauss, (-10, 10))\n",
    "x = mcmc.walk(x, 1024, 0.1, npdf)\n",
    "x = mcmc.walk(x, 1000, 1, npdf, keep_all=True)\n",
    "plt.hist(x.flatten(), bins=1000);"
   ]
  },
  {
   "cell_type": "code",
   "execution_count": null,
   "metadata": {},
   "outputs": [],
   "source": [
    "x = np.random.uniform(0, 1, 1024)\n",
    "npdf = mcmc.pdf_normed(camel, (0, 1))\n",
    "x = mcmc.walk(x, 1024, 0.1, npdf)\n",
    "x = mcmc.walk(x, 1000, 1, npdf, keep_all=True)\n",
    "plt.hist(x.flatten(), bins=1000);"
   ]
  },
  {
   "cell_type": "code",
   "execution_count": null,
   "metadata": {},
   "outputs": [],
   "source": [
    "x = np.random.uniform(0, 2, 1024)\n",
    "npdf = mcmc.pdf_normed(sigmoid, (0, 2))\n",
    "x = mcmc.walk(x, 1024, 0.1, npdf)\n",
    "x = mcmc.walk(x, 1000, 1, npdf, keep_all=True)\n",
    "plt.hist(x.flatten(), bins=1000);"
   ]
  },
  {
   "cell_type": "code",
   "execution_count": null,
   "metadata": {},
   "outputs": [],
   "source": [
    "x = np.random.uniform(0, 1, 1024)\n",
    "npdf = mcmc.pdf_normed(lambda x: np.abs(np.sin(10 * x)), (0, 1))\n",
    "x = mcmc.walk(x, 1024, 0.1, npdf)\n",
    "x = mcmc.walk(x, 1000, 1, npdf, keep_all=True)\n",
    "plt.hist(x.flatten(), bins=1000);"
   ]
  },
  {
   "cell_type": "code",
   "execution_count": null,
   "metadata": {},
   "outputs": [],
   "source": [
    "x = np.random.uniform(0, 1.2, 1024)\n",
    "npdf = mcmc.pdf_normed(lambda x: -(x - 0.2) ** 2 + (x - 0.2), (0, 1.2))\n",
    "x = mcmc.walk(x, 1024, 0.1, npdf)\n",
    "x = mcmc.walk(x, 1000, 1, npdf, keep_all=True)\n",
    "plt.hist(x.flatten(), bins=1000);"
   ]
  },
  {
   "cell_type": "code",
   "execution_count": null,
   "metadata": {},
   "outputs": [],
   "source": []
  }
 ],
 "metadata": {
  "kernelspec": {
   "display_name": "Python 3.10.4 ('.env': venv)",
   "language": "python",
   "name": "python3"
  },
  "language_info": {
   "codemirror_mode": {
    "name": "ipython",
    "version": 3
   },
   "file_extension": ".py",
   "mimetype": "text/x-python",
   "name": "python",
   "nbconvert_exporter": "python",
   "pygments_lexer": "ipython3",
   "version": "3.10.4"
  },
  "orig_nbformat": 4,
  "vscode": {
   "interpreter": {
    "hash": "b93f8a783ce01517669736211091c04380baaeade151a8d99af99d5a48b061b6"
   }
  }
 },
 "nbformat": 4,
 "nbformat_minor": 2
}
