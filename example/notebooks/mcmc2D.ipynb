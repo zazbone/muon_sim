{
 "cells": [
  {
   "cell_type": "code",
   "execution_count": null,
   "metadata": {},
   "outputs": [],
   "source": [
    "from muon_sim import mcmc\n",
    "import numpy as np\n",
    "import matplotlib.pyplot as plt"
   ]
  },
  {
   "cell_type": "code",
   "execution_count": null,
   "metadata": {},
   "outputs": [],
   "source": [
    "def gaussian2d(x, y):\n",
    "\tX = np.power(x, 2) / (2 * np.power(0.3, 2))\n",
    "\tY = np.power(y, 2) / (2 * np.power(0.3, 2))\n",
    "\treturn np.exp(-X -Y)\n",
    "\n",
    "def cossin(x, y):\n",
    "\treturn np.sin(5 * x) * np.cos(5 * y) + 1\n",
    "\n",
    "def wave(x, y):\n",
    "\tr = 100 * (np.power(x, 2) + np.power(y, 2))\n",
    "\treturn np.sin(r)\n",
    "\n",
    "def vulkano(x, y):\n",
    "\tr = 4 * (np.power(x, 2) + np.power(y, 2))\n",
    "\treturn np.power(r, 3) / np.exp(r)"
   ]
  },
  {
   "cell_type": "code",
   "execution_count": null,
   "metadata": {},
   "outputs": [],
   "source": [
    "x = np.random.uniform(-1, 1, 1024)\n",
    "y = np.random.uniform(-1, 1, 1024)\n",
    "npdf = mcmc.pdf_normedND(gaussian2d, [(-1, 1), (-1, 1)])\n",
    "x, y = mcmc.walk(x, 1024, 0.1, npdf)\n",
    "x = mcmc.walk(x, 1000, 1, npdf, keep_all=True)\n",
    "plt.hist2d(x.flatten(), y.flatten(), bins=1000);"
   ]
  }
 ],
 "metadata": {
  "kernelspec": {
   "display_name": "Python 3.10.4 ('.env': venv)",
   "language": "python",
   "name": "python3"
  },
  "language_info": {
   "name": "python",
   "version": "3.10.4"
  },
  "vscode": {
   "interpreter": {
    "hash": "b93f8a783ce01517669736211091c04380baaeade151a8d99af99d5a48b061b6"
   }
  }
 },
 "nbformat": 4,
 "nbformat_minor": 2
}
