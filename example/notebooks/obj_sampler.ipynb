{
 "cells": [
  {
   "cell_type": "code",
   "execution_count": null,
   "metadata": {},
   "outputs": [],
   "source": [
    "from muon_sim.sampler import MCMCSampler\n",
    "import numpy as np\n",
    "import matplotlib.pyplot as plt"
   ]
  },
  {
   "cell_type": "code",
   "execution_count": null,
   "metadata": {},
   "outputs": [],
   "source": [
    "def gauss(x):\n",
    "\t\"\"\"Just an unormalized gaussian density function\"\"\"\n",
    "\treturn np.exp(-np.power(x, 2) / 0.5)\n",
    "\n",
    "def camel(x):\n",
    "\treturn np.power(10 * x, 3) / np.exp(10 * x)\n",
    "\n",
    "def sigmoid(x):\n",
    "\treturn 1 / (1 + np.exp(-5 * (x - 1)))"
   ]
  },
  {
   "cell_type": "code",
   "execution_count": null,
   "metadata": {},
   "outputs": [],
   "source": [
    "sampler_gauss = MCMCSampler(gauss, (-3, 3), 1000)\n",
    "sampler_camel = MCMCSampler(camel, (0, 1), 1000)\n",
    "sampler_sigmoid = MCMCSampler(sigmoid, (0, 2), 1000)"
   ]
  },
  {
   "cell_type": "code",
   "execution_count": null,
   "metadata": {},
   "outputs": [],
   "source": [
    "x = sampler_gauss.sample(1000)\n",
    "plt.hist(x.flatten(), bins=1000);"
   ]
  },
  {
   "cell_type": "code",
   "execution_count": null,
   "metadata": {},
   "outputs": [],
   "source": [
    "x = sampler_camel.sample(1000)\n",
    "plt.hist(x.flatten(), bins=1000);"
   ]
  },
  {
   "cell_type": "code",
   "execution_count": null,
   "metadata": {},
   "outputs": [],
   "source": [
    "x = sampler_sigmoid.sample(1000)\n",
    "plt.hist(x.flatten(), bins=1000);"
   ]
  }
 ],
 "metadata": {
  "kernelspec": {
   "display_name": ".env",
   "language": "python",
   "name": "python3"
  },
  "language_info": {
   "codemirror_mode": {
    "name": "ipython",
    "version": 3
   },
   "file_extension": ".py",
   "mimetype": "text/x-python",
   "name": "python",
   "nbconvert_exporter": "python",
   "pygments_lexer": "ipython3",
   "version": "3.10.6 (main, Nov 14 2022, 16:10:14) [GCC 11.3.0]"
  },
  "orig_nbformat": 4,
  "vscode": {
   "interpreter": {
    "hash": "40bbae4af5160b053119971b2b0735c3f78510be3347aa39e0b742eb472f0c8e"
   }
  }
 },
 "nbformat": 4,
 "nbformat_minor": 2
}
