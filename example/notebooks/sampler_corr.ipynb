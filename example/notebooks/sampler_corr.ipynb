{
 "cells": [
  {
   "cell_type": "code",
   "execution_count": null,
   "metadata": {},
   "outputs": [],
   "source": [
    "from muon_sim import mcmc\n",
    "import numpy as np\n",
    "import matplotlib.pyplot as plt"
   ]
  },
  {
   "cell_type": "code",
   "execution_count": null,
   "metadata": {},
   "outputs": [],
   "source": [
    "def gauss(x):\n",
    "\t\"\"\"Just an unormalized gaussian density function\"\"\"\n",
    "\treturn np.exp(-np.power(x, 2) / 0.5)"
   ]
  },
  {
   "cell_type": "code",
   "execution_count": null,
   "metadata": {},
   "outputs": [],
   "source": [
    "x = np.random.uniform(-2, 2, 1024)\n",
    "npdf = mcmc.pdf_normed(gauss, (-10, 10))\n",
    "x = mcmc.walk(x, 1024, 0.1, npdf)  # Converge trash run"
   ]
  },
  {
   "cell_type": "markdown",
   "metadata": {},
   "source": [
    "# Find best sigma \n",
    "ie the sigma for wich acceptance rate is ~ 60%"
   ]
  },
  {
   "cell_type": "code",
   "execution_count": null,
   "metadata": {},
   "outputs": [],
   "source": [
    "sigma = np.linspace(0.1, 2, 64)\n",
    "arate = np.zeros(64)\n",
    "for i, s in enumerate(sigma):\n",
    "    mean = 0\n",
    "    for _ in range(100):\n",
    "        x = mcmc.walk(x, 1, s, npdf)\n",
    "        y = mcmc.walk(x, 1, s, npdf)\n",
    "        mean += np.sum(np.isclose(x, y)) / x.shape[0]\n",
    "    arate[i] = mean / 100\n",
    "\n",
    "\n",
    "diff = np.abs(arate - 0.6)\n",
    "min_index = np.argmin(diff)\n",
    "BEST_SIGMA = sigma[min_index]"
   ]
  },
  {
   "cell_type": "code",
   "execution_count": null,
   "metadata": {},
   "outputs": [],
   "source": [
    "plt.plot(sigma, arate)\n",
    "BEST_SIGMA, arate[min_index]"
   ]
  },
  {
   "cell_type": "code",
   "execution_count": null,
   "metadata": {},
   "outputs": [],
   "source": [
    "steps = np.arange(200, dtype=\"int\")\n",
    "correlation = np.zeros(200)\n",
    "sigma = BEST_SIGMA\n",
    "for n in steps:\n",
    "    x = mcmc.walk(x, 1, sigma, npdf)\n",
    "    y = mcmc.walk(x, n, sigma, npdf)\n",
    "    correlation[n] = np.corrcoef(x, y)[0, 1]"
   ]
  },
  {
   "cell_type": "markdown",
   "metadata": {},
   "source": [
    "Après un ncorr suffisant la valeur de la correlation entre deux walker oscille dans des valeurs proche de zéro\n",
    "Graphiquement on estime qu'il est inutile de chercher à avoir une corr inférieur à ATOL"
   ]
  },
  {
   "cell_type": "code",
   "execution_count": null,
   "metadata": {},
   "outputs": [],
   "source": [
    "ATOL = 0.05\n",
    "for i, c in enumerate(correlation):\n",
    "    if c < ATOL:\n",
    "        break\n",
    "NCOOR = i"
   ]
  },
  {
   "cell_type": "code",
   "execution_count": null,
   "metadata": {},
   "outputs": [],
   "source": [
    "plt.plot(steps, correlation)\n",
    "NCOOR, correlation[NCOOR]"
   ]
  }
 ],
 "metadata": {
  "kernelspec": {
   "display_name": ".env",
   "language": "python",
   "name": "python3"
  },
  "language_info": {
   "codemirror_mode": {
    "name": "ipython",
    "version": 3
   },
   "file_extension": ".py",
   "mimetype": "text/x-python",
   "name": "python",
   "nbconvert_exporter": "python",
   "pygments_lexer": "ipython3",
   "version": "3.10.6 (main, Nov 14 2022, 16:10:14) [GCC 11.3.0]"
  },
  "vscode": {
   "interpreter": {
    "hash": "40bbae4af5160b053119971b2b0735c3f78510be3347aa39e0b742eb472f0c8e"
   }
  }
 },
 "nbformat": 4,
 "nbformat_minor": 2
}
